{
 "cells": [
  {
   "cell_type": "code",
   "execution_count": 1,
   "id": "49c3e721",
   "metadata": {},
   "outputs": [],
   "source": [
    "import pandas as pd\n",
    "import os\n",
    "\n",
    "# 获取当前文件夹下所有的CSV文件\n",
    "csv_files = [f for f in os.listdir('.') if f.endswith('.csv')]\n",
    "\n",
    "# 创建一个空的DataFrame来存放所有合并后的数据\n",
    "all_data_combined = pd.DataFrame()\n",
    "\n",
    "# 遍历文件列表，读取数据，添加公司名列，然后合并数据\n",
    "for file in csv_files:\n",
    "    # 读取CSV文件\n",
    "    df = pd.read_csv(file)\n",
    "    # 从文件名推断公司名，去掉.csv后缀\n",
    "    company_name = file.replace('.csv', '')\n",
    "    # 添加company列\n",
    "    df['company'] = company_name\n",
    "    # 合并数据\n",
    "    all_data_combined = pd.concat([all_data_combined, df], ignore_index=True)\n",
    "\n",
    "# 保存合并后的数据到一个新的CSV文件\n",
    "all_data_combined.to_csv('combined_data.csv', index=False)"
   ]
  }
 ],
 "metadata": {
  "kernelspec": {
   "display_name": "Python 3 (ipykernel)",
   "language": "python",
   "name": "python3"
  },
  "language_info": {
   "codemirror_mode": {
    "name": "ipython",
    "version": 3
   },
   "file_extension": ".py",
   "mimetype": "text/x-python",
   "name": "python",
   "nbconvert_exporter": "python",
   "pygments_lexer": "ipython3",
   "version": "3.10.9"
  }
 },
 "nbformat": 4,
 "nbformat_minor": 5
}
